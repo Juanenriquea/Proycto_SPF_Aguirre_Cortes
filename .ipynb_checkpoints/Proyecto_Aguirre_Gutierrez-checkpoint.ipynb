{
 "cells": [
  {
   "cell_type": "markdown",
   "metadata": {},
   "source": [
    "# <img src=\"http://oci02.img.iteso.mx/identidad_de_instancia_2018/ITESO/Logos%20ITESO/Logo-ITESO-Principal.jpg\">"
   ]
  },
  {
   "cell_type": "markdown",
   "metadata": {},
   "source": [
    "# PROYECTO SIMULACION.\n",
    "<Strong> <font size = 3> Proyecto: </font> </Strong> VENTAS DE Volkswagen PARA 2021<br><br>\n",
    "<Strong> <font size = 3> Integrante 1 </font> </Strong> Romina Gutierréz Cortés\n",
    "<Strong> <font size = 3> Integrante 2 </font> </Strong> Juan Enrique Aguirre López\n",
    "<Strong> <font size = 3> Profesor: </font> </Strong>Oscar David Jaramillo<br><br>\n",
    "<Strong> <font size = 3> Fecha de entrega:  </font> </Strong> 20 de Octubre de 2020<br><br>"
   ]
  },
  {
   "cell_type": "markdown",
   "metadata": {},
   "source": [
    "___\n",
    "## 1. Entregable.\n",
    "Los trabajos deben tener los siguientes componentes básicos.\n",
    "\n",
    "### 1.1 Título del trabajo.\n",
    "\n",
    "## Simulación de Ventas de Automoviles Marca VOLKSWAGEN en México. (2021)\n",
    "\n",
    "### 1.2 Objetivos.\n",
    "\n",
    "> #### 1.1 Objetivo general.\n",
    ">  - Ver la evolucion de las ventas totales de autos Volkswagen en México.\n",
    ">  - Analizar cuánto representan de las ventas totales estos 3 tipos de vehículos: Automóviles compactos y sub-compactos, autos de lujo y deportivos, y camionetas (camiones ligeros) como Pick-up, SUV's y Minivans.\n",
    "> #### 1.2 Objetivos específicos\n",
    ">  - Ver la evolucion de las ventas, ver si aumentan, disminuyen o son estables. En el caso de aumentar, ver qué tanto aumentan, si es significativo ese aumento o poco significativo.\n",
    ">  - Analizar estos 3 segmentos de vehículos con el objetivo de saber que pasa con ellos, aumentan, disminuyen o siguen igual, representan perdidas o ganancias. Además, ver qué tanto del total representa cada segmento de coche, para ver de qué tipo de coches se da la mayoría de la utilidad de la empresa.\n",
    "\n",
    "\n",
    "### 1.3 Definición del problema.\n",
    "La marca volkswagen es una de las marcas que más vende autos en México a lo largo de la historia. Es por esto que nos centraremos en dos objetivos principales: Pronosticar las ventas totales y las ventas de cada tipo de auto. Pronosticar las ventas que tendrá la marca para los siguientes meses es algo importante ya que a partir de este dato, la compañía puede hacer una planeación estratégica, a través de saber si están vendiendo más o menos o qué tanto está incrementando; y saber si están inviertiendo bien el dinero o hay que destinarlo a otras áreas. Además, queremos saber qué porcentaje representa cada segmento de autos que vende Volkswagen del total de las ventas. Saber qué tan relevantes son en las ganancias de la compañía en la cuestión de autos.\n",
    "\n",
    "Por otra parte, cabe señalar que los modelos de la marca cambian año tras año. Por eso también simularemos las ventas de cada uno de los tipos de autos que maneja la marca, para orientarlos hacia la mejor decisión sobre qué hacer con cada grupo de modelos. Ya sea detener la producción, invertir más tiempo en ciertos modelos porque gneeran más ventas y demás. \n",
    "\n",
    "<img src=\"Diagrama.png\">\n",
    "\n",
    "### 1.4 Nodos y variables que se decidieron simular y porqué\n",
    "> 1. Ventas totales de autos de Volkswagen.\n",
    "> 2. Ventas de segmento de autos compactos y sub-compactos.\n",
    "> 3. Ventas de segmento de autos de lujo y deportivos.\n",
    "> 4. Ventas de segmento de camionetas (camiones ligeros).\n",
    "\n",
    "\n",
    "### 1.5 Definición de hipótesis y supuestos.\n",
    "\n",
    "Una de las hipótesis que damos por ciertas es que no vamos a tomar en cuenta los gastos que se realizan en desarrollo tecnológico, o lo que se invierte en cada auto, o cuestiones personales que dependan de la producción de cada auto. Nostros nos basaremos solamente en las ventas de cada modelo de auto para recomendar alguna acción a realizar. Asimismo, Vamos a suponer que lo que se invierte en cada segmento de autos, va a ser proporcional a lo que representan de las ventas totales. Por útlimo, vamos a suponer que no sabemos de convenios que se tengan o socios estratégicos que puedan depender en los precios.\n",
    "También suponemos que no nos importa el poder adquisitivo de la gente, suponemos que se mantiene en creciemiento conforme ha avanzado en los últimos años.\n",
    "\n",
    "Como variables tenemos el numero de veces que simularemos(N) y las ventas por mes de cada tipo de auto.\n",
    "\n",
    "\n",
    "### 1.6 Obtención de bases de datos\n",
    "\n",
    "Las bases de datos que descargamos son de la página oficial del INEGI (Instituto Nacional de Estadística, Geografía e Información). Esta base de datos proporciona lo que son las ventas de las diferentes compañías de autos, nacionales e internacionales, que venden autos en México desde el 2005 hasta septiembre de 2020. Son las ventas mensuales por cada modelo que maneje cada marca. Decidimos trabajar con los datos de volkswagen, una empresa importante a lo largo de la última década en el país.\n",
    "\n",
    "### 1.7 Visualización de resultados de simulación.\n",
    "> Se deben simular al menos 4  \"nodos\" o \"escenarios\" en tu problema. Para la segunda entrega debes haber elaborado un programa que simule dos de ellos, los primeros dos de tu diagrama.\n",
    "> Para la entrega final deben de tener los 4 nodos con todas sus simulaciones.\n",
    "\n",
    "### 1.6 Conclusiones.\n",
    "> Mucho cuidado, las conclusiones no son cualquier cosa. Se debe concluir respecto a los objetivos planteados de acuerdo a los resultados obtenidos.\n",
    "\n",
    "### 1.7 Referencias.\n",
    "> INEGI, (2019), 'Ventas de automoviles en México', www.inegi.gob, México."
   ]
  },
  {
   "cell_type": "markdown",
   "metadata": {},
   "source": [
    "___\n",
    "## 2. Especificaciones adicionales.\n",
    "En el grupo deben haber mínimo dos integrantes y máximo tres integrantes. Para propósitos logísticos nada más, por favor enumérense como *integrante 1*, *integrante 2* e *integrante 3*.\n",
    "\n",
    "### 2.1 Notebook de jupyter. \n",
    "> Los anteriores numerales los deben desarrollar todos en un notebook de jupyter y llamarlo de la siguiente manera `ProyectoModulo1_ApellidoN1_ApellidoN2_ApellidoN3`, donde `ApellidoNi` hace referencia al apellido materno y la inicial del primer nombre del integrante `i`.\n",
    "\n",
    "### 2.2 Proyecto en `GitHub`.\n",
    "> El integrante 1 deberá crear un proyecto en `GitHub` llamado **proyecto_modulo1**, donde tendrán todos los archivos relacionados con el proyecto. Los demás integrantes deben hacer un *fork* del proyecto, seguir el proyecto principal con `GitKraken` y hacer al menos dos contribuciones con *pull request* (como se hizo en la tarea). En el proyecto, deben incluir el repositorio remoto del integrante 1.\n",
    "\n",
    "### 2.3 Presentación.\n",
    "> Recuerden que la nota del proyecto es mitad el trabajo, y mitad la presentación. Deben hacer una presentación ya sea en power point o utlizando un notebook de python para presentar el trabajo durante un horario de clase que se será posteriomente definido. La presentación, además de llevar todos los componentes básicos descritos en el entregable, debe llevar una tabla de contenido.\n",
    "> - Presentación: 10 minutos.\n",
    "> - Seguir estas recomendaciones: https://es.slideshare.net/MeireComputacion/power-point-pautas-para-una-buen-trabajo"
   ]
  },
  {
   "cell_type": "markdown",
   "metadata": {},
   "source": [
    "<script>\n",
    "  $(document).ready(function(){\n",
    "    $('div.prompt').hide();\n",
    "    $('div.back-to-top').hide();\n",
    "    $('nav#menubar').hide();\n",
    "    $('.breadcrumb').hide();\n",
    "    $('.hidden-print').hide();\n",
    "  });\n",
    "</script>\n",
    "\n",
    "<footer id=\"attribution\" style=\"float:right; color:#808080; background:#fff;\">\n",
    "Created with Jupyter by Esteban Jiménez Rodríguez.\n",
    "</footer>"
   ]
  }
 ],
 "metadata": {
  "kernelspec": {
   "display_name": "Python 3",
   "language": "python",
   "name": "python3"
  },
  "language_info": {
   "codemirror_mode": {
    "name": "ipython",
    "version": 3
   },
   "file_extension": ".py",
   "mimetype": "text/x-python",
   "name": "python",
   "nbconvert_exporter": "python",
   "pygments_lexer": "ipython3",
   "version": "3.8.3"
  }
 },
 "nbformat": 4,
 "nbformat_minor": 2
}
