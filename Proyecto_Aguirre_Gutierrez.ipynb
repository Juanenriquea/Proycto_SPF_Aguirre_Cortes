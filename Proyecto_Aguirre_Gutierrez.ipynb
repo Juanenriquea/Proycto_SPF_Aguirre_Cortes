{
 "cells": [
  {
   "cell_type": "markdown",
   "metadata": {},
   "source": [
    "# <img src=\"http://oci02.img.iteso.mx/identidad_de_instancia_2018/ITESO/Logos%20ITESO/Logo-ITESO-Principal.jpg\">"
   ]
  },
  {
   "cell_type": "markdown",
   "metadata": {},
   "source": [
    "# PROYECTO SIMULACION.\n",
    "<Strong> <font size = 3> Proyecto: </font> </Strong> VENTAS DE Volkswagen PARA 2021<br><br>\n",
    "<Strong> <font size = 3> Integrante 1 </font> </Strong> Romina Gutierréz Cortés\n",
    "<Strong> <font size = 3> Integrante 2 </font> </Strong> Juan Enrique Aguirre\n",
    "<Strong> <font size = 3> Profesor: </font> </Strong>Oscar David Jaramillo<br><br>\n",
    "<Strong> <font size = 3> Fecha de entrega:  </font> </Strong> 20 de Octubre de 2020<br><br>"
   ]
  },
  {
   "cell_type": "markdown",
   "metadata": {},
   "source": [
    "___\n",
    "## 1. Entregable.\n",
    "Los trabajos deben tener los siguientes componentes básicos.\n",
    "\n",
    "### 1.1 Título del trabajo.\n",
    "## Simulación de Ventas de Automoviles Marca VOLKSWAGEN en México. (2021)\n",
    "\n",
    "### 1.2 Objetivos.\n",
    "> Saber cuantas ventas se pronostican para la marca volkswagen en los siguientes meses.\n",
    "> Señalar cuantas ventas se pronostican por segmento o tipo de carro, como son SUVs y autos Compactos.\n",
    "\n",
    "> Investigar información detallada de la venta histórica de Volkswagen.\n",
    "\n",
    "> Generar archivos con la información a utilizar.\n",
    "\n",
    "> Analizar todos los datos que encontremos y generemos.\n",
    "\n",
    "> Generar conocimiento del tema.\n",
    "\n",
    "\n",
    "### 1.3 Definición del problema.\n",
    "#### La marca volkswagen es una de las marcas que más vende autos en México a lo largo de la historia. Pronosticar las ventas que tendra la marca para los siguientes meses es algo importante ya que a partir de est dato, los inversores decidiran mejor hacia donde dirigen el dinero.\n",
    "\n",
    "#### Por otra parte, cabe señalar que las ventas de los modelos de la marca, también cambian sus ventas año tras año, por eso también simularemos los escenarios posibles que tiene cada uno de los modelos observados más vendidos.  \n",
    "\n",
    "### 1.4 Nodos y variables que se decidieron simular y porqué\n",
    "> 1. Ventas de Volkswagen en general.\n",
    "> 2. Segmento de coches SUVs.\n",
    "> 3. Segmento de coches compactos.\n",
    "> 4. Ventas del carro de lujo mas vendido, Accord puertas. \n",
    "\n",
    "\n",
    "### 1.5 Definición de hipótesis y supuestos.\n",
    "#### Al observar los datos históricos de las ventas, podemos observar que año con año, las ventas tienen un crecimiento. Por lo cual nuestra hipotesis se basa en creer que las ventas seguiran creciendo, quizá un poco menos, porcentualmente hablando, que el año en curso o incluso el año pasado y asi observar que carro es recomendable seguir vendiendo en México.\n",
    "\n",
    "> Existe una variable que no tomamos en cuenta, la cual es sobre la población mexicana en general, con esto nos referimos a como a sido el cambio dentro de el poder adquisitivo promedio a lo largo de los años. Creemos que esto tambien es algo que puede llegar a afectar, pero al no saber de que manera afecta, dejamos esta informacion por un lado. \n",
    "\n",
    "### 1.6 Obtención de bases de datos\n",
    "#### Las bases de datos que descargamos son de la página oficial del INEGI (Instituto Nacional de Estadística, Geografía e Información. Además de tener datos a la mano sobre datos estadisticos, como tasas y listados de lo que pasa en México en general, encontramos esta base de datos de ventas totales en México. De aqui al observar los datos, concluimos en trabajar con los datos de volkswagen. Tenemos información histórica desde el 2005. \n",
    "\n",
    "### 1.7 Visualización de resultados de simulación.\n",
    "> Se deben simular al menos 4  \"nodos\" o \"escenarios\" en tu problema. Para la segunda entrega debes haber elaborado un programa que simule dos de ellos, los primeros dos de tu diagrama.\n",
    "> Para la entrega final deben de tener los 4 nodos con todas sus simulaciones.\n",
    "\n",
    "### 1.6 Conclusiones.\n",
    "> Mucho cuidado, las conclusiones no son cualquier cosa. Se debe concluir respecto a los objetivos planteados de acuerdo a los resultados obtenidos.\n",
    "\n",
    "### 1.7 Referencias.\n",
    "> INEGI, (2019), 'Ventas de automoviles en México', www.inegi.gob, México."
   ]
  },
  {
   "cell_type": "markdown",
   "metadata": {},
   "source": [
    "___\n",
    "## 2. Especificaciones adicionales.\n",
    "En el grupo deben haber mínimo dos integrantes y máximo tres integrantes. Para propósitos logísticos nada más, por favor enumérense como *integrante 1*, *integrante 2* e *integrante 3*.\n",
    "\n",
    "### 2.1 Notebook de jupyter. \n",
    "> Los anteriores numerales los deben desarrollar todos en un notebook de jupyter y llamarlo de la siguiente manera `ProyectoModulo1_ApellidoN1_ApellidoN2_ApellidoN3`, donde `ApellidoNi` hace referencia al apellido materno y la inicial del primer nombre del integrante `i`.\n",
    "\n",
    "### 2.2 Proyecto en `GitHub`.\n",
    "> El integrante 1 deberá crear un proyecto en `GitHub` llamado **proyecto_modulo1**, donde tendrán todos los archivos relacionados con el proyecto. Los demás integrantes deben hacer un *fork* del proyecto, seguir el proyecto principal con `GitKraken` y hacer al menos dos contribuciones con *pull request* (como se hizo en la tarea). En el proyecto, deben incluir el repositorio remoto del integrante 1.\n",
    "\n",
    "### 2.3 Presentación.\n",
    "> Recuerden que la nota del proyecto es mitad el trabajo, y mitad la presentación. Deben hacer una presentación ya sea en power point o utlizando un notebook de python para presentar el trabajo durante un horario de clase que se será posteriomente definido. La presentación, además de llevar todos los componentes básicos descritos en el entregable, debe llevar una tabla de contenido.\n",
    "> - Presentación: 10 minutos.\n",
    "> - Seguir estas recomendaciones: https://es.slideshare.net/MeireComputacion/power-point-pautas-para-una-buen-trabajo"
   ]
  },
  {
   "cell_type": "markdown",
   "metadata": {},
   "source": [
    "<script>\n",
    "  $(document).ready(function(){\n",
    "    $('div.prompt').hide();\n",
    "    $('div.back-to-top').hide();\n",
    "    $('nav#menubar').hide();\n",
    "    $('.breadcrumb').hide();\n",
    "    $('.hidden-print').hide();\n",
    "  });\n",
    "</script>\n",
    "\n",
    "<footer id=\"attribution\" style=\"float:right; color:#808080; background:#fff;\">\n",
    "Created with Jupyter by Esteban Jiménez Rodríguez.\n",
    "</footer>"
   ]
  }
 ],
 "metadata": {
  "kernelspec": {
   "display_name": "Python 3",
   "language": "python",
   "name": "python3"
  },
  "language_info": {
   "codemirror_mode": {
    "name": "ipython",
    "version": 3
   },
   "file_extension": ".py",
   "mimetype": "text/x-python",
   "name": "python",
   "nbconvert_exporter": "python",
   "pygments_lexer": "ipython3",
   "version": "3.8.3"
  }
 },
 "nbformat": 4,
 "nbformat_minor": 2
}
